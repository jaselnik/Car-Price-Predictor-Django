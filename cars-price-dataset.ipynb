{
 "cells": [
  {
   "cell_type": "code",
   "execution_count": 1,
   "metadata": {},
   "outputs": [],
   "source": [
    "import pandas as pd"
   ]
  },
  {
   "cell_type": "code",
   "execution_count": 6,
   "metadata": {},
   "outputs": [],
   "source": [
    "import numpy as np"
   ]
  },
  {
   "cell_type": "code",
   "execution_count": 16,
   "metadata": {},
   "outputs": [
    {
     "data": {
      "text/html": [
       "<div>\n",
       "<style scoped>\n",
       "    .dataframe tbody tr th:only-of-type {\n",
       "        vertical-align: middle;\n",
       "    }\n",
       "\n",
       "    .dataframe tbody tr th {\n",
       "        vertical-align: top;\n",
       "    }\n",
       "\n",
       "    .dataframe thead th {\n",
       "        text-align: right;\n",
       "    }\n",
       "</style>\n",
       "<table border=\"1\" class=\"dataframe\">\n",
       "  <thead>\n",
       "    <tr style=\"text-align: right;\">\n",
       "      <th></th>\n",
       "      <th>price</th>\n",
       "      <th>year_model</th>\n",
       "      <th>mileage</th>\n",
       "      <th>fuel_type</th>\n",
       "      <th>mark</th>\n",
       "      <th>model</th>\n",
       "      <th>fiscal_power</th>\n",
       "      <th>sector</th>\n",
       "      <th>type</th>\n",
       "      <th>city</th>\n",
       "    </tr>\n",
       "  </thead>\n",
       "  <tbody>\n",
       "    <tr>\n",
       "      <th>0</th>\n",
       "      <td>135 000 DH</td>\n",
       "      <td>Année-Modèle:2013</td>\n",
       "      <td>Kilométrage:160 000 - 169 999</td>\n",
       "      <td>Type de carburant:Diesel</td>\n",
       "      <td>Marque:Peugeot</td>\n",
       "      <td>Modèle:508</td>\n",
       "      <td>Puissance fiscale:-</td>\n",
       "      <td>-</td>\n",
       "      <td>Type:Voitures, Offre</td>\n",
       "      <td>Temara</td>\n",
       "    </tr>\n",
       "    <tr>\n",
       "      <th>1</th>\n",
       "      <td>53 000 DH</td>\n",
       "      <td>Année-Modèle:2008</td>\n",
       "      <td>Kilométrage:35 000 - 39 999</td>\n",
       "      <td>Type de carburant:Diesel</td>\n",
       "      <td>Marque:Renault</td>\n",
       "      <td>Modèle:Clio</td>\n",
       "      <td>Puissance fiscale:-</td>\n",
       "      <td>-</td>\n",
       "      <td>Type:Voitures, Offre</td>\n",
       "      <td>Safi</td>\n",
       "    </tr>\n",
       "    <tr>\n",
       "      <th>2</th>\n",
       "      <td>59 000 DH</td>\n",
       "      <td>Année-Modèle:2007</td>\n",
       "      <td>Kilométrage:180 000 - 189 999</td>\n",
       "      <td>Type de carburant:Diesel</td>\n",
       "      <td>Marque:Citroen</td>\n",
       "      <td>Modèle:C3</td>\n",
       "      <td>Puissance fiscale:6 CV</td>\n",
       "      <td>Secteur:oued_fes</td>\n",
       "      <td>Type:Voitures, Offre</td>\n",
       "      <td>Fès</td>\n",
       "    </tr>\n",
       "    <tr>\n",
       "      <th>3</th>\n",
       "      <td>88 000 DH</td>\n",
       "      <td>Année-Modèle:2010</td>\n",
       "      <td>Kilométrage:35 000 - 39 999</td>\n",
       "      <td>Type de carburant:Diesel</td>\n",
       "      <td>Marque:Mercedes-Benz</td>\n",
       "      <td>Modèle:220</td>\n",
       "      <td>Puissance fiscale:-</td>\n",
       "      <td>-</td>\n",
       "      <td>Type:Voitures, Offre</td>\n",
       "      <td>Nador</td>\n",
       "    </tr>\n",
       "    <tr>\n",
       "      <th>4</th>\n",
       "      <td>60 000 DH</td>\n",
       "      <td>Année-Modèle:2009</td>\n",
       "      <td>Kilométrage:130 000 - 139 999</td>\n",
       "      <td>Type de carburant:Essence</td>\n",
       "      <td>Marque:Ford</td>\n",
       "      <td>Modèle:Fiesta</td>\n",
       "      <td>Puissance fiscale:7 CV</td>\n",
       "      <td>Secteur:saies</td>\n",
       "      <td>Type:Voitures, Offre</td>\n",
       "      <td>Fès</td>\n",
       "    </tr>\n",
       "  </tbody>\n",
       "</table>\n",
       "</div>"
      ],
      "text/plain": [
       "        price         year_model                        mileage  \\\n",
       "0  135 000 DH  Année-Modèle:2013  Kilométrage:160 000 - 169 999   \n",
       "1   53 000 DH  Année-Modèle:2008    Kilométrage:35 000 - 39 999   \n",
       "2   59 000 DH  Année-Modèle:2007  Kilométrage:180 000 - 189 999   \n",
       "3   88 000 DH  Année-Modèle:2010    Kilométrage:35 000 - 39 999   \n",
       "4   60 000 DH  Année-Modèle:2009  Kilométrage:130 000 - 139 999   \n",
       "\n",
       "                   fuel_type                  mark          model  \\\n",
       "0   Type de carburant:Diesel        Marque:Peugeot     Modèle:508   \n",
       "1   Type de carburant:Diesel        Marque:Renault    Modèle:Clio   \n",
       "2   Type de carburant:Diesel        Marque:Citroen      Modèle:C3   \n",
       "3   Type de carburant:Diesel  Marque:Mercedes-Benz     Modèle:220   \n",
       "4  Type de carburant:Essence           Marque:Ford  Modèle:Fiesta   \n",
       "\n",
       "             fiscal_power            sector                  type     city  \n",
       "0     Puissance fiscale:-                 -  Type:Voitures, Offre   Temara  \n",
       "1     Puissance fiscale:-                 -  Type:Voitures, Offre     Safi  \n",
       "2  Puissance fiscale:6 CV  Secteur:oued_fes  Type:Voitures, Offre      Fès  \n",
       "3     Puissance fiscale:-                 -  Type:Voitures, Offre    Nador  \n",
       "4  Puissance fiscale:7 CV     Secteur:saies  Type:Voitures, Offre      Fès  "
      ]
     },
     "execution_count": 16,
     "metadata": {},
     "output_type": "execute_result"
    }
   ],
   "source": [
    "# set the column names\n",
    "colnames=['price', 'year_model', 'mileage', 'fuel_type', 'mark', 'model', 'fiscal_power', 'sector', 'type', 'city'] \n",
    "# read the csv file as a dataframe\n",
    "df = pd.read_csv(\"./data/output.csv\", sep=\",\", names=colnames, header=None)\n",
    "# let's get some simple vision on our dataset\n",
    "df.head()"
   ]
  },
  {
   "cell_type": "code",
   "execution_count": 17,
   "metadata": {},
   "outputs": [],
   "source": [
    "# remove thos rows doesn't contain the price value\n",
    "df = df[df.price.str.contains(\"DH\") == True]\n",
    "# remove the 'DH' caracters from the price\n",
    "df.price = df.price.map(lambda x: x.rstrip('DH'))\n",
    "# remove the space on it\n",
    "df.price = df.price.str.replace(\" \",\"\")\n",
    "# change it to integer value\n",
    "df.price = pd.to_numeric(df.price, errors = 'coerce', downcast= 'integer')"
   ]
  },
  {
   "cell_type": "code",
   "execution_count": 18,
   "metadata": {},
   "outputs": [],
   "source": [
    "# remove thos rows doesn't contain the year_model value\n",
    "df = df[df.year_model.str.contains(\"Année-Modèle\") == True]\n",
    "# remove the 'Année-Modèle:' from the year_model\n",
    "df.year_model = df.year_model.map(lambda x: x.lstrip('Année-Modèle:').rstrip('ou plus ancien'))\n",
    "# df.year_model = df.year_model.map(lambda x: x.lstrip('Plus de '))\n",
    "# remove those lines having the year_model not set\n",
    "df = df[df.year_model != ' -']\n",
    "df = df[df.year_model != '']\n",
    "# change it to integer value\n",
    "df.year_model = pd.to_numeric(df.year_model, errors = 'coerce', downcast = 'integer')"
   ]
  },
  {
   "cell_type": "code",
   "execution_count": 19,
   "metadata": {},
   "outputs": [],
   "source": [
    "# remove thos rows doesn't contain the year_model value\n",
    "df = df[df.mileage.str.contains(\"Kilométrage\") == True]\n",
    "# remove the 'Kilométrage:' string from the mileage feature \n",
    "df.mileage = df.mileage.map(lambda x: x.lstrip('Kilométrage:'))\n",
    "df.mileage = df.mileage.map(lambda x: x.lstrip('Plus de '))\n",
    "# remove those lines having the mileage values null or '-'\n",
    "df = df[df.mileage != '-']\n",
    "# we have only one value type that is equal to 500 000, all the other ones contain two values\n",
    "if any(df.mileage != '500 000'):\n",
    "    # create two columns minim and maxim to calculate the mileage mean\n",
    "    df['minim'], df['maxim'] = df.mileage.str.split('-', 1).str\n",
    "    # remove spaces from the maxim & minim values \n",
    "    df['maxim'] = df.maxim.str.replace(\" \",\"\")\n",
    "    df['minim'] = df.minim.str.replace(\" \",\"\")\n",
    "    df['maxim'] = df['maxim'].replace(np.nan, 500000)\n",
    "    # calculate the mean of mileage \n",
    "    df.mileage = df.apply(lambda row: (int(row.minim) + int(row.maxim)) / 2, axis=1)\n",
    "    # now that the mileage is calculated so we do not need the minim and maxim values anymore\n",
    "    df = df.drop(columns=['minim', 'maxim'])"
   ]
  },
  {
   "cell_type": "markdown",
   "metadata": {},
   "source": [
    "#### Fuel type"
   ]
  },
  {
   "cell_type": "code",
   "execution_count": 20,
   "metadata": {},
   "outputs": [],
   "source": [
    "# remove the 'Type de carburant:' string from the carburant_type feature\n",
    "df.fuel_type = df.fuel_type.map(lambda x: x.lstrip('Type de carburant:'))"
   ]
  },
  {
   "cell_type": "markdown",
   "metadata": {},
   "source": [
    "#### Mark & Model"
   ]
  },
  {
   "cell_type": "code",
   "execution_count": 21,
   "metadata": {},
   "outputs": [],
   "source": [
    "# remove the 'Marque:' string from the mark feature\n",
    "df['mark'] = df['mark'].map(lambda x: x.replace('Marque:', ''))\n",
    "df = df[df.mark != '-']\n",
    "# remove the 'Modèle:' string from model feature \n",
    "df['model'] = df['model'].map(lambda x: x.replace('Modèle:', ''))"
   ]
  },
  {
   "cell_type": "markdown",
   "metadata": {},
   "source": [
    "#### fiscal power\n",
    "\n",
    "For the fiscal power we can see that there is exactly 5728 rows not announced, so we will fill them by the mean of the other columns, since it is an important feature in cars price prediction so we can not drop it."
   ]
  },
  {
   "cell_type": "code",
   "execution_count": 22,
   "metadata": {},
   "outputs": [],
   "source": [
    "# remove the 'Puissance fiscale:' from the fiscal_power feature\n",
    "df.fiscal_power = df.fiscal_power.map(lambda x: x.lstrip('Puissance fiscale:Plus de').rstrip(' CV'))\n",
    "# replace the - with NaN values and convert them to integer values\n",
    "df.fiscal_power = df.fiscal_power.str.replace(\"-\",\"0\")\n",
    "# convert all fiscal_power values to numerical ones \n",
    "df.fiscal_power = pd.to_numeric(df.fiscal_power, errors = 'coerce', downcast= 'integer')\n",
    "# now we need to fill those 0 values with the mean of all fiscal_power columns\n",
    "df.fiscal_power = df.fiscal_power.map( lambda x : df.fiscal_power.mean() if x == 0 else x )"
   ]
  },
  {
   "cell_type": "markdown",
   "metadata": {},
   "source": [
    "#### fuel type"
   ]
  },
  {
   "cell_type": "code",
   "execution_count": 23,
   "metadata": {},
   "outputs": [],
   "source": [
    "# remove those lines having the fuel_type not set\n",
    "df = df[df.fuel_type != '-']"
   ]
  },
  {
   "cell_type": "markdown",
   "metadata": {},
   "source": [
    "#### drop unwanted columns"
   ]
  },
  {
   "cell_type": "code",
   "execution_count": 24,
   "metadata": {},
   "outputs": [],
   "source": [
    "df = df.drop(columns=['sector', 'type'])"
   ]
  },
  {
   "cell_type": "code",
   "execution_count": 30,
   "metadata": {},
   "outputs": [],
   "source": [
    "df = df[['price', 'year_model', 'mileage', 'fiscal_power', 'fuel_type', 'mark']]"
   ]
  },
  {
   "cell_type": "code",
   "execution_count": 31,
   "metadata": {},
   "outputs": [],
   "source": [
    "df.to_csv('data/car_dataset.csv')"
   ]
  },
  {
   "cell_type": "code",
   "execution_count": 32,
   "metadata": {},
   "outputs": [
    {
     "data": {
      "text/html": [
       "<div>\n",
       "<style scoped>\n",
       "    .dataframe tbody tr th:only-of-type {\n",
       "        vertical-align: middle;\n",
       "    }\n",
       "\n",
       "    .dataframe tbody tr th {\n",
       "        vertical-align: top;\n",
       "    }\n",
       "\n",
       "    .dataframe thead th {\n",
       "        text-align: right;\n",
       "    }\n",
       "</style>\n",
       "<table border=\"1\" class=\"dataframe\">\n",
       "  <thead>\n",
       "    <tr style=\"text-align: right;\">\n",
       "      <th></th>\n",
       "      <th>price</th>\n",
       "      <th>year_model</th>\n",
       "      <th>mileage</th>\n",
       "      <th>fiscal_power</th>\n",
       "      <th>fuel_type</th>\n",
       "      <th>mark</th>\n",
       "    </tr>\n",
       "  </thead>\n",
       "  <tbody>\n",
       "    <tr>\n",
       "      <th>0</th>\n",
       "      <td>135000</td>\n",
       "      <td>2013</td>\n",
       "      <td>164999.5</td>\n",
       "      <td>2.631837</td>\n",
       "      <td>Diesel</td>\n",
       "      <td>Peugeot</td>\n",
       "    </tr>\n",
       "    <tr>\n",
       "      <th>1</th>\n",
       "      <td>53000</td>\n",
       "      <td>2008</td>\n",
       "      <td>37499.5</td>\n",
       "      <td>2.631837</td>\n",
       "      <td>Diesel</td>\n",
       "      <td>Renault</td>\n",
       "    </tr>\n",
       "    <tr>\n",
       "      <th>2</th>\n",
       "      <td>59000</td>\n",
       "      <td>2007</td>\n",
       "      <td>184999.5</td>\n",
       "      <td>6.000000</td>\n",
       "      <td>Diesel</td>\n",
       "      <td>Citroen</td>\n",
       "    </tr>\n",
       "    <tr>\n",
       "      <th>3</th>\n",
       "      <td>88000</td>\n",
       "      <td>2010</td>\n",
       "      <td>37499.5</td>\n",
       "      <td>2.631837</td>\n",
       "      <td>Diesel</td>\n",
       "      <td>Mercedes-Benz</td>\n",
       "    </tr>\n",
       "    <tr>\n",
       "      <th>4</th>\n",
       "      <td>60000</td>\n",
       "      <td>2009</td>\n",
       "      <td>134999.5</td>\n",
       "      <td>7.000000</td>\n",
       "      <td>Essence</td>\n",
       "      <td>Ford</td>\n",
       "    </tr>\n",
       "  </tbody>\n",
       "</table>\n",
       "</div>"
      ],
      "text/plain": [
       "    price  year_model   mileage  fiscal_power fuel_type           mark\n",
       "0  135000        2013  164999.5      2.631837    Diesel        Peugeot\n",
       "1   53000        2008   37499.5      2.631837    Diesel        Renault\n",
       "2   59000        2007  184999.5      6.000000    Diesel        Citroen\n",
       "3   88000        2010   37499.5      2.631837    Diesel  Mercedes-Benz\n",
       "4   60000        2009  134999.5      7.000000   Essence           Ford"
      ]
     },
     "execution_count": 32,
     "metadata": {},
     "output_type": "execute_result"
    }
   ],
   "source": [
    "df.head()"
   ]
  },
  {
   "cell_type": "code",
   "execution_count": 33,
   "metadata": {},
   "outputs": [],
   "source": [
    "from car_price.wsgi import application"
   ]
  },
  {
   "cell_type": "code",
   "execution_count": 34,
   "metadata": {},
   "outputs": [],
   "source": [
    "from api.models import Car"
   ]
  },
  {
   "cell_type": "code",
   "execution_count": 53,
   "metadata": {},
   "outputs": [],
   "source": [
    "for x in df.values[5598:]:\n",
    "    car = Car(\n",
    "        price=x[0],\n",
    "        year_model=x[1],\n",
    "        mileage=x[2],\n",
    "        fiscal_power=x[3],\n",
    "        fuel_type=x[4],\n",
    "        mark=x[5]\n",
    "    )\n",
    "    car.save()"
   ]
  },
  {
   "cell_type": "code",
   "execution_count": 54,
   "metadata": {},
   "outputs": [
    {
     "data": {
      "text/plain": [
       "8553"
      ]
     },
     "execution_count": 54,
     "metadata": {},
     "output_type": "execute_result"
    }
   ],
   "source": [
    "Car.objects.all().count()"
   ]
  },
  {
   "cell_type": "code",
   "execution_count": 55,
   "metadata": {},
   "outputs": [
    {
     "data": {
      "text/plain": [
       "(8553, 6)"
      ]
     },
     "execution_count": 55,
     "metadata": {},
     "output_type": "execute_result"
    }
   ],
   "source": [
    "df.shape"
   ]
  }
 ],
 "metadata": {
  "kernelspec": {
   "display_name": "Python 3",
   "language": "python",
   "name": "python3"
  },
  "language_info": {
   "codemirror_mode": {
    "name": "ipython",
    "version": 3
   },
   "file_extension": ".py",
   "mimetype": "text/x-python",
   "name": "python",
   "nbconvert_exporter": "python",
   "pygments_lexer": "ipython3",
   "version": "3.6.5"
  }
 },
 "nbformat": 4,
 "nbformat_minor": 2
}
